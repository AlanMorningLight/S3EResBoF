{
  "nbformat": 4,
  "nbformat_minor": 0,
  "metadata": {
    "colab": {
      "name": "SEResnet8.ipynb",
      "provenance": [],
      "collapsed_sections": [],
      "machine_shape": "hm"
    },
    "kernelspec": {
      "name": "python3",
      "display_name": "Python 3"
    },
    "accelerator": "GPU"
  },
  "cells": [
    {
      "cell_type": "code",
      "metadata": {
        "id": "z6OCqhHxm53M",
        "colab_type": "code",
        "outputId": "9817f376-3f02-4d8a-9740-54333c580c0c",
        "colab": {
          "base_uri": "https://localhost:8080/",
          "height": 185
        }
      },
      "source": [
        "!pip install spectral\n",
        "!pip3 install keras==2.2.4"
      ],
      "execution_count": 0,
      "outputs": [
        {
          "output_type": "stream",
          "text": [
            "Requirement already satisfied: spectral in /usr/local/lib/python3.6/dist-packages (0.20)\n",
            "Requirement already satisfied: numpy in /usr/local/lib/python3.6/dist-packages (from spectral) (1.17.4)\n",
            "Requirement already satisfied: keras==2.2.4 in /usr/local/lib/python3.6/dist-packages (2.2.4)\n",
            "Requirement already satisfied: scipy>=0.14 in /usr/local/lib/python3.6/dist-packages (from keras==2.2.4) (1.3.2)\n",
            "Requirement already satisfied: pyyaml in /usr/local/lib/python3.6/dist-packages (from keras==2.2.4) (3.13)\n",
            "Requirement already satisfied: keras-preprocessing>=1.0.5 in /usr/local/lib/python3.6/dist-packages (from keras==2.2.4) (1.1.0)\n",
            "Requirement already satisfied: keras-applications>=1.0.6 in /usr/local/lib/python3.6/dist-packages (from keras==2.2.4) (1.0.8)\n",
            "Requirement already satisfied: numpy>=1.9.1 in /usr/local/lib/python3.6/dist-packages (from keras==2.2.4) (1.17.4)\n",
            "Requirement already satisfied: h5py in /usr/local/lib/python3.6/dist-packages (from keras==2.2.4) (2.8.0)\n",
            "Requirement already satisfied: six>=1.9.0 in /usr/local/lib/python3.6/dist-packages (from keras==2.2.4) (1.12.0)\n"
          ],
          "name": "stdout"
        }
      ]
    },
    {
      "cell_type": "code",
      "metadata": {
        "id": "ZfHocU4InF6n",
        "colab_type": "code",
        "outputId": "3f55e693-0d79-47fe-b5b3-5a07bd36708b",
        "colab": {
          "base_uri": "https://localhost:8080/",
          "height": 17
        }
      },
      "source": [
        "import keras\n",
        "from keras.layers import Conv2D, Conv3D, Flatten, Dense, Reshape, BatchNormalization\n",
        "from keras.layers import Dropout, Input\n",
        "from keras.models import Model\n",
        "from keras.optimizers import Adam\n",
        "from keras.callbacks import ModelCheckpoint\n",
        "from keras.utils import np_utils\n",
        "\n",
        "from sklearn.decomposition import PCA\n",
        "from sklearn.model_selection import train_test_split\n",
        "from sklearn.metrics import confusion_matrix, accuracy_score, classification_report, cohen_kappa_score\n",
        "\n",
        "from operator import truediv\n",
        "\n",
        "from plotly.offline import init_notebook_mode\n",
        "\n",
        "import numpy as np\n",
        "import matplotlib.pyplot as plt\n",
        "import scipy.io as sio\n",
        "import os\n",
        "import spectral\n",
        "\n",
        "init_notebook_mode(connected=True)\n",
        "%matplotlib inline"
      ],
      "execution_count": 0,
      "outputs": [
        {
          "output_type": "display_data",
          "data": {
            "text/html": [
              "        <script type=\"text/javascript\">\n",
              "        window.PlotlyConfig = {MathJaxConfig: 'local'};\n",
              "        if (window.MathJax) {MathJax.Hub.Config({SVG: {font: \"STIX-Web\"}});}\n",
              "        if (typeof require !== 'undefined') {\n",
              "        require.undef(\"plotly\");\n",
              "        requirejs.config({\n",
              "            paths: {\n",
              "                'plotly': ['https://cdn.plot.ly/plotly-latest.min']\n",
              "            }\n",
              "        });\n",
              "        require(['plotly'], function(Plotly) {\n",
              "            window._Plotly = Plotly;\n",
              "        });\n",
              "        }\n",
              "        </script>\n",
              "        "
            ]
          },
          "metadata": {
            "tags": []
          }
        }
      ]
    },
    {
      "cell_type": "code",
      "metadata": {
        "id": "WCNUo-GmrYQQ",
        "colab_type": "code",
        "colab": {}
      },
      "source": [
        "import numpy as np\n",
        "import random \n",
        "#import numpy as np\n",
        "import matplotlib.pyplot as plt\n",
        "import scipy.io as sio\n",
        "from keras.models import Sequential, Model\n",
        "from keras.layers import Convolution2D, MaxPooling2D, Conv3D, MaxPooling3D, ZeroPadding3D\n",
        "from keras.layers import Activation, Dropout, Flatten, Dense, BatchNormalization, Input\n",
        "from keras.utils.np_utils import to_categorical\n",
        "from sklearn.decomposition import PCA\n",
        "from keras.optimizers import Adam, SGD, Adadelta, RMSprop, Nadam\n",
        "import keras.callbacks as kcallbacks\n",
        "from keras.regularizers import l2\n",
        "import time\n",
        "import collections\n",
        "from sklearn import metrics, preprocessing"
      ],
      "execution_count": 0,
      "outputs": []
    },
    {
      "cell_type": "code",
      "metadata": {
        "id": "eEDB7COnnLWB",
        "colab_type": "code",
        "outputId": "4a5c1a19-9e75-4497-fa60-9e5c5fd299d0",
        "colab": {
          "base_uri": "https://localhost:8080/",
          "height": 34
        }
      },
      "source": [
        "from google.colab import drive\n",
        "drive.mount('/content/gdrive/')"
      ],
      "execution_count": 0,
      "outputs": [
        {
          "output_type": "stream",
          "text": [
            "Drive already mounted at /content/gdrive/; to attempt to forcibly remount, call drive.mount(\"/content/gdrive/\", force_remount=True).\n"
          ],
          "name": "stdout"
        }
      ]
    },
    {
      "cell_type": "code",
      "metadata": {
        "id": "UTg1gBApnYB3",
        "colab_type": "code",
        "colab": {}
      },
      "source": [
        "def loadData(name):\n",
        "    data_path = '/content/gdrive/My Drive/GAMO_gen/'\n",
        "    if name == 'IP':\n",
        "        data = sio.loadmat(os.path.join(data_path, 'Indian_pines_corrected.mat'))['indian_pines_corrected']\n",
        "        labels = sio.loadmat(os.path.join(data_path, 'Indian_pines_gt.mat'))['indian_pines_gt']\n",
        "    elif name == 'SA':\n",
        "        data = sio.loadmat(os.path.join(data_path, 'Salinas_corrected.mat'))['salinas_corrected']\n",
        "        labels = sio.loadmat(os.path.join(data_path, 'Salinas_gt.mat'))['salinas_gt']\n",
        "    elif name == 'PU':\n",
        "        data = sio.loadmat(os.path.join(data_path, 'PaviaU.mat'))['paviaU']\n",
        "        labels = sio.loadmat(os.path.join(data_path, 'PaviaU_gt.mat'))['paviaU_gt']\n",
        "    elif name == 'KSC':\n",
        "        data = sio.loadmat(os.path.join(data_path, 'KSC.mat'))['KSC']\n",
        "        labels = sio.loadmat(os.path.join(data_path, 'KSC_gt.mat'))['KSC_gt']\n",
        "    \n",
        "    return data, labels"
      ],
      "execution_count": 0,
      "outputs": []
    },
    {
      "cell_type": "code",
      "metadata": {
        "id": "5jTK5lVknd1I",
        "colab_type": "code",
        "colab": {}
      },
      "source": [
        "## GLOBAL VARIABLES\n",
        "dataset = 'IP'\n",
        "test_ratio = 0.7\n",
        "windowSize = 15"
      ],
      "execution_count": 0,
      "outputs": []
    },
    {
      "cell_type": "code",
      "metadata": {
        "id": "7aUueS0ongcQ",
        "colab_type": "code",
        "colab": {}
      },
      "source": [
        "def splitTrainTestSet(X, y, testRatio, randomState=345):\n",
        "    X_train, X_test, y_train, y_test = train_test_split(X, y, test_size=testRatio, random_state=randomState,\n",
        "                                                        stratify=y)\n",
        "    return X_train, X_test, y_train, y_test"
      ],
      "execution_count": 0,
      "outputs": []
    },
    {
      "cell_type": "code",
      "metadata": {
        "id": "SPNszbeGnnz2",
        "colab_type": "code",
        "colab": {}
      },
      "source": [
        "def applyPCA(X, numComponents=75):\n",
        "    newX = np.reshape(X, (-1, X.shape[2]))\n",
        "    pca = PCA(n_components=numComponents, whiten=True)\n",
        "    newX = pca.fit_transform(newX)\n",
        "    newX = np.reshape(newX, (X.shape[0],X.shape[1], numComponents))\n",
        "    return newX, pca"
      ],
      "execution_count": 0,
      "outputs": []
    },
    {
      "cell_type": "code",
      "metadata": {
        "id": "EWXLXtjUnq6m",
        "colab_type": "code",
        "colab": {}
      },
      "source": [
        "def padWithZeros(X, margin=2):\n",
        "    newX = np.zeros((X.shape[0] + 2 * margin, X.shape[1] + 2* margin, X.shape[2]))\n",
        "    x_offset = margin\n",
        "    y_offset = margin\n",
        "    newX[x_offset:X.shape[0] + x_offset, y_offset:X.shape[1] + y_offset, :] = X\n",
        "    return newX"
      ],
      "execution_count": 0,
      "outputs": []
    },
    {
      "cell_type": "code",
      "metadata": {
        "id": "lex5klJMnuE-",
        "colab_type": "code",
        "colab": {}
      },
      "source": [
        "def createImageCubes(X, y, windowSize=5, removeZeroLabels = True):\n",
        "    margin = int((windowSize - 1) / 2)\n",
        "    zeroPaddedX = padWithZeros(X, margin=margin)\n",
        "    # split patches\n",
        "    patchesData = np.zeros((X.shape[0] * X.shape[1], windowSize, windowSize, X.shape[2]))\n",
        "    patchesLabels = np.zeros((X.shape[0] * X.shape[1]))\n",
        "    patchIndex = 0\n",
        "    for r in range(margin, zeroPaddedX.shape[0] - margin):\n",
        "        for c in range(margin, zeroPaddedX.shape[1] - margin):\n",
        "            patch = zeroPaddedX[r - margin:r + margin + 1, c - margin:c + margin + 1]   \n",
        "            patchesData[patchIndex, :, :, :] = patch\n",
        "            patchesLabels[patchIndex] = y[r-margin, c-margin]\n",
        "            patchIndex = patchIndex + 1\n",
        "    if removeZeroLabels:\n",
        "        patchesData = patchesData[patchesLabels>0,:,:,:]\n",
        "        patchesLabels = patchesLabels[patchesLabels>0]\n",
        "        patchesLabels -= 1\n",
        "    return patchesData, patchesLabels"
      ],
      "execution_count": 0,
      "outputs": []
    },
    {
      "cell_type": "code",
      "metadata": {
        "id": "HAXZ6HZHnxY6",
        "colab_type": "code",
        "colab": {}
      },
      "source": [
        "X , Y = loadData(dataset)"
      ],
      "execution_count": 0,
      "outputs": []
    },
    {
      "cell_type": "code",
      "metadata": {
        "id": "HiOD8i_Bnyuz",
        "colab_type": "code",
        "outputId": "6bc5837b-df45-4b90-9f40-09f009d02ae9",
        "colab": {
          "base_uri": "https://localhost:8080/",
          "height": 34
        }
      },
      "source": [
        "K = 30 if dataset == 'IP' else 15\n",
        "X,pca = applyPCA(X,numComponents=K)\n",
        "\n",
        "X.shape"
      ],
      "execution_count": 0,
      "outputs": [
        {
          "output_type": "execute_result",
          "data": {
            "text/plain": [
              "(145, 145, 30)"
            ]
          },
          "metadata": {
            "tags": []
          },
          "execution_count": 43
        }
      ]
    },
    {
      "cell_type": "code",
      "metadata": {
        "id": "C4rK5F8LoLPE",
        "colab_type": "code",
        "outputId": "0a97a2b5-5cd8-40e7-d69e-dd54ea61ecf0",
        "colab": {
          "base_uri": "https://localhost:8080/",
          "height": 34
        }
      },
      "source": [
        "X, Y = createImageCubes(X, Y, windowSize=windowSize)\n",
        "X.shape, Y.shape"
      ],
      "execution_count": 0,
      "outputs": [
        {
          "output_type": "execute_result",
          "data": {
            "text/plain": [
              "((10249, 15, 15, 30), (10249,))"
            ]
          },
          "metadata": {
            "tags": []
          },
          "execution_count": 44
        }
      ]
    },
    {
      "cell_type": "code",
      "metadata": {
        "id": "NwIAVJY3yNeu",
        "colab_type": "code",
        "colab": {}
      },
      "source": [
        "sz = X.shape[0]//10"
      ],
      "execution_count": 0,
      "outputs": []
    },
    {
      "cell_type": "code",
      "metadata": {
        "id": "vuZ2ycEurFKQ",
        "colab_type": "code",
        "colab": {}
      },
      "source": [
        " Y = to_categorical(Y)"
      ],
      "execution_count": 0,
      "outputs": []
    },
    {
      "cell_type": "code",
      "metadata": {
        "id": "Tfn4Hz5ioNll",
        "colab_type": "code",
        "colab": {}
      },
      "source": [
        "X = X.reshape((X.shape[0],windowSize,windowSize,K,1))\n"
      ],
      "execution_count": 0,
      "outputs": []
    },
    {
      "cell_type": "code",
      "metadata": {
        "id": "CQIbpv2CoQnF",
        "colab_type": "code",
        "colab": {}
      },
      "source": [
        "train_X, test_X, train_Y, test_Y = splitTrainTestSet(X, Y, test_ratio)\n"
      ],
      "execution_count": 0,
      "outputs": []
    },
    {
      "cell_type": "code",
      "metadata": {
        "id": "iVfcURydATbr",
        "colab_type": "code",
        "colab": {}
      },
      "source": [
        "#X.shape\n",
        "#train_X, test_X = X[:160] , X[160:]\n",
        "#train_Y, test_Y = Y[:160] , Y[160:]\n"
      ],
      "execution_count": 0,
      "outputs": []
    },
    {
      "cell_type": "code",
      "metadata": {
        "id": "MugcRnL2q7aI",
        "colab_type": "code",
        "colab": {}
      },
      "source": [
        "val_X = test_X[:sz]\n",
        "test_X = test_X[sz:]\n",
        "val_Y = test_Y[:sz]\n",
        "test_Y = test_Y[sz:]"
      ],
      "execution_count": 0,
      "outputs": []
    },
    {
      "cell_type": "code",
      "metadata": {
        "id": "EUgh__zLlAYU",
        "colab_type": "code",
        "outputId": "ac502c13-e748-463f-b30c-55917c76e99e",
        "colab": {
          "base_uri": "https://localhost:8080/",
          "height": 34
        }
      },
      "source": [
        "train_X.shape"
      ],
      "execution_count": 0,
      "outputs": [
        {
          "output_type": "execute_result",
          "data": {
            "text/plain": [
              "(3074, 15, 15, 30, 1)"
            ]
          },
          "metadata": {
            "tags": []
          },
          "execution_count": 50
        }
      ]
    },
    {
      "cell_type": "code",
      "metadata": {
        "id": "CSNCVEq0o06C",
        "colab_type": "code",
        "colab": {}
      },
      "source": [
        "KAPPA_RES_SS4 = []\n",
        "OA_RES_SS4 = []\n",
        "AA_RES_SS4 = []\n",
        "TRAINING_TIME_RES_SS4 = []\n",
        "TESTING_TIME_RES_SS4 = []\n",
        "ELEMENT_ACC_RES_SS4 = np.zeros((1, 16))"
      ],
      "execution_count": 0,
      "outputs": []
    },
    {
      "cell_type": "code",
      "metadata": {
        "id": "LKgAJNHEtB69",
        "colab_type": "code",
        "colab": {}
      },
      "source": [
        "#!rm se_resnet8_cbof.py\n",
        "#!rm cbof.py"
      ],
      "execution_count": 0,
      "outputs": []
    },
    {
      "cell_type": "code",
      "metadata": {
        "id": "H1YcGdejo-b1",
        "colab_type": "code",
        "outputId": "93f45a41-4162-495b-c2ba-2de14e6601a1",
        "colab": {
          "resources": {
            "http://localhost:8080/nbextensions/google.colab/files.js": {
              "data": "Ly8gQ29weXJpZ2h0IDIwMTcgR29vZ2xlIExMQwovLwovLyBMaWNlbnNlZCB1bmRlciB0aGUgQXBhY2hlIExpY2Vuc2UsIFZlcnNpb24gMi4wICh0aGUgIkxpY2Vuc2UiKTsKLy8geW91IG1heSBub3QgdXNlIHRoaXMgZmlsZSBleGNlcHQgaW4gY29tcGxpYW5jZSB3aXRoIHRoZSBMaWNlbnNlLgovLyBZb3UgbWF5IG9idGFpbiBhIGNvcHkgb2YgdGhlIExpY2Vuc2UgYXQKLy8KLy8gICAgICBodHRwOi8vd3d3LmFwYWNoZS5vcmcvbGljZW5zZXMvTElDRU5TRS0yLjAKLy8KLy8gVW5sZXNzIHJlcXVpcmVkIGJ5IGFwcGxpY2FibGUgbGF3IG9yIGFncmVlZCB0byBpbiB3cml0aW5nLCBzb2Z0d2FyZQovLyBkaXN0cmlidXRlZCB1bmRlciB0aGUgTGljZW5zZSBpcyBkaXN0cmlidXRlZCBvbiBhbiAiQVMgSVMiIEJBU0lTLAovLyBXSVRIT1VUIFdBUlJBTlRJRVMgT1IgQ09ORElUSU9OUyBPRiBBTlkgS0lORCwgZWl0aGVyIGV4cHJlc3Mgb3IgaW1wbGllZC4KLy8gU2VlIHRoZSBMaWNlbnNlIGZvciB0aGUgc3BlY2lmaWMgbGFuZ3VhZ2UgZ292ZXJuaW5nIHBlcm1pc3Npb25zIGFuZAovLyBsaW1pdGF0aW9ucyB1bmRlciB0aGUgTGljZW5zZS4KCi8qKgogKiBAZmlsZW92ZXJ2aWV3IEhlbHBlcnMgZm9yIGdvb2dsZS5jb2xhYiBQeXRob24gbW9kdWxlLgogKi8KKGZ1bmN0aW9uKHNjb3BlKSB7CmZ1bmN0aW9uIHNwYW4odGV4dCwgc3R5bGVBdHRyaWJ1dGVzID0ge30pIHsKICBjb25zdCBlbGVtZW50ID0gZG9jdW1lbnQuY3JlYXRlRWxlbWVudCgnc3BhbicpOwogIGVsZW1lbnQudGV4dENvbnRlbnQgPSB0ZXh0OwogIGZvciAoY29uc3Qga2V5IG9mIE9iamVjdC5rZXlzKHN0eWxlQXR0cmlidXRlcykpIHsKICAgIGVsZW1lbnQuc3R5bGVba2V5XSA9IHN0eWxlQXR0cmlidXRlc1trZXldOwogIH0KICByZXR1cm4gZWxlbWVudDsKfQoKLy8gTWF4IG51bWJlciBvZiBieXRlcyB3aGljaCB3aWxsIGJlIHVwbG9hZGVkIGF0IGEgdGltZS4KY29uc3QgTUFYX1BBWUxPQURfU0laRSA9IDEwMCAqIDEwMjQ7Ci8vIE1heCBhbW91bnQgb2YgdGltZSB0byBibG9jayB3YWl0aW5nIGZvciB0aGUgdXNlci4KY29uc3QgRklMRV9DSEFOR0VfVElNRU9VVF9NUyA9IDMwICogMTAwMDsKCmZ1bmN0aW9uIF91cGxvYWRGaWxlcyhpbnB1dElkLCBvdXRwdXRJZCkgewogIGNvbnN0IHN0ZXBzID0gdXBsb2FkRmlsZXNTdGVwKGlucHV0SWQsIG91dHB1dElkKTsKICBjb25zdCBvdXRwdXRFbGVtZW50ID0gZG9jdW1lbnQuZ2V0RWxlbWVudEJ5SWQob3V0cHV0SWQpOwogIC8vIENhY2hlIHN0ZXBzIG9uIHRoZSBvdXRwdXRFbGVtZW50IHRvIG1ha2UgaXQgYXZhaWxhYmxlIGZvciB0aGUgbmV4dCBjYWxsCiAgLy8gdG8gdXBsb2FkRmlsZXNDb250aW51ZSBmcm9tIFB5dGhvbi4KICBvdXRwdXRFbGVtZW50LnN0ZXBzID0gc3RlcHM7CgogIHJldHVybiBfdXBsb2FkRmlsZXNDb250aW51ZShvdXRwdXRJZCk7Cn0KCi8vIFRoaXMgaXMgcm91Z2hseSBhbiBhc3luYyBnZW5lcmF0b3IgKG5vdCBzdXBwb3J0ZWQgaW4gdGhlIGJyb3dzZXIgeWV0KSwKLy8gd2hlcmUgdGhlcmUgYXJlIG11bHRpcGxlIGFzeW5jaHJvbm91cyBzdGVwcyBhbmQgdGhlIFB5dGhvbiBzaWRlIGlzIGdvaW5nCi8vIHRvIHBvbGwgZm9yIGNvbXBsZXRpb24gb2YgZWFjaCBzdGVwLgovLyBUaGlzIHVzZXMgYSBQcm9taXNlIHRvIGJsb2NrIHRoZSBweXRob24gc2lkZSBvbiBjb21wbGV0aW9uIG9mIGVhY2ggc3RlcCwKLy8gdGhlbiBwYXNzZXMgdGhlIHJlc3VsdCBvZiB0aGUgcHJldmlvdXMgc3RlcCBhcyB0aGUgaW5wdXQgdG8gdGhlIG5leHQgc3RlcC4KZnVuY3Rpb24gX3VwbG9hZEZpbGVzQ29udGludWUob3V0cHV0SWQpIHsKICBjb25zdCBvdXRwdXRFbGVtZW50ID0gZG9jdW1lbnQuZ2V0RWxlbWVudEJ5SWQob3V0cHV0SWQpOwogIGNvbnN0IHN0ZXBzID0gb3V0cHV0RWxlbWVudC5zdGVwczsKCiAgY29uc3QgbmV4dCA9IHN0ZXBzLm5leHQob3V0cHV0RWxlbWVudC5sYXN0UHJvbWlzZVZhbHVlKTsKICByZXR1cm4gUHJvbWlzZS5yZXNvbHZlKG5leHQudmFsdWUucHJvbWlzZSkudGhlbigodmFsdWUpID0+IHsKICAgIC8vIENhY2hlIHRoZSBsYXN0IHByb21pc2UgdmFsdWUgdG8gbWFrZSBpdCBhdmFpbGFibGUgdG8gdGhlIG5leHQKICAgIC8vIHN0ZXAgb2YgdGhlIGdlbmVyYXRvci4KICAgIG91dHB1dEVsZW1lbnQubGFzdFByb21pc2VWYWx1ZSA9IHZhbHVlOwogICAgcmV0dXJuIG5leHQudmFsdWUucmVzcG9uc2U7CiAgfSk7Cn0KCi8qKgogKiBHZW5lcmF0b3IgZnVuY3Rpb24gd2hpY2ggaXMgY2FsbGVkIGJldHdlZW4gZWFjaCBhc3luYyBzdGVwIG9mIHRoZSB1cGxvYWQKICogcHJvY2Vzcy4KICogQHBhcmFtIHtzdHJpbmd9IGlucHV0SWQgRWxlbWVudCBJRCBvZiB0aGUgaW5wdXQgZmlsZSBwaWNrZXIgZWxlbWVudC4KICogQHBhcmFtIHtzdHJpbmd9IG91dHB1dElkIEVsZW1lbnQgSUQgb2YgdGhlIG91dHB1dCBkaXNwbGF5LgogKiBAcmV0dXJuIHshSXRlcmFibGU8IU9iamVjdD59IEl0ZXJhYmxlIG9mIG5leHQgc3RlcHMuCiAqLwpmdW5jdGlvbiogdXBsb2FkRmlsZXNTdGVwKGlucHV0SWQsIG91dHB1dElkKSB7CiAgY29uc3QgaW5wdXRFbGVtZW50ID0gZG9jdW1lbnQuZ2V0RWxlbWVudEJ5SWQoaW5wdXRJZCk7CiAgaW5wdXRFbGVtZW50LmRpc2FibGVkID0gZmFsc2U7CgogIGNvbnN0IG91dHB1dEVsZW1lbnQgPSBkb2N1bWVudC5nZXRFbGVtZW50QnlJZChvdXRwdXRJZCk7CiAgb3V0cHV0RWxlbWVudC5pbm5lckhUTUwgPSAnJzsKCiAgY29uc3QgcGlja2VkUHJvbWlzZSA9IG5ldyBQcm9taXNlKChyZXNvbHZlKSA9PiB7CiAgICBpbnB1dEVsZW1lbnQuYWRkRXZlbnRMaXN0ZW5lcignY2hhbmdlJywgKGUpID0+IHsKICAgICAgcmVzb2x2ZShlLnRhcmdldC5maWxlcyk7CiAgICB9KTsKICB9KTsKCiAgY29uc3QgY2FuY2VsID0gZG9jdW1lbnQuY3JlYXRlRWxlbWVudCgnYnV0dG9uJyk7CiAgaW5wdXRFbGVtZW50LnBhcmVudEVsZW1lbnQuYXBwZW5kQ2hpbGQoY2FuY2VsKTsKICBjYW5jZWwudGV4dENvbnRlbnQgPSAnQ2FuY2VsIHVwbG9hZCc7CiAgY29uc3QgY2FuY2VsUHJvbWlzZSA9IG5ldyBQcm9taXNlKChyZXNvbHZlKSA9PiB7CiAgICBjYW5jZWwub25jbGljayA9ICgpID0+IHsKICAgICAgcmVzb2x2ZShudWxsKTsKICAgIH07CiAgfSk7CgogIC8vIENhbmNlbCB1cGxvYWQgaWYgdXNlciBoYXNuJ3QgcGlja2VkIGFueXRoaW5nIGluIHRpbWVvdXQuCiAgY29uc3QgdGltZW91dFByb21pc2UgPSBuZXcgUHJvbWlzZSgocmVzb2x2ZSkgPT4gewogICAgc2V0VGltZW91dCgoKSA9PiB7CiAgICAgIHJlc29sdmUobnVsbCk7CiAgICB9LCBGSUxFX0NIQU5HRV9USU1FT1VUX01TKTsKICB9KTsKCiAgLy8gV2FpdCBmb3IgdGhlIHVzZXIgdG8gcGljayB0aGUgZmlsZXMuCiAgY29uc3QgZmlsZXMgPSB5aWVsZCB7CiAgICBwcm9taXNlOiBQcm9taXNlLnJhY2UoW3BpY2tlZFByb21pc2UsIHRpbWVvdXRQcm9taXNlLCBjYW5jZWxQcm9taXNlXSksCiAgICByZXNwb25zZTogewogICAgICBhY3Rpb246ICdzdGFydGluZycsCiAgICB9CiAgfTsKCiAgaWYgKCFmaWxlcykgewogICAgcmV0dXJuIHsKICAgICAgcmVzcG9uc2U6IHsKICAgICAgICBhY3Rpb246ICdjb21wbGV0ZScsCiAgICAgIH0KICAgIH07CiAgfQoKICBjYW5jZWwucmVtb3ZlKCk7CgogIC8vIERpc2FibGUgdGhlIGlucHV0IGVsZW1lbnQgc2luY2UgZnVydGhlciBwaWNrcyBhcmUgbm90IGFsbG93ZWQuCiAgaW5wdXRFbGVtZW50LmRpc2FibGVkID0gdHJ1ZTsKCiAgZm9yIChjb25zdCBmaWxlIG9mIGZpbGVzKSB7CiAgICBjb25zdCBsaSA9IGRvY3VtZW50LmNyZWF0ZUVsZW1lbnQoJ2xpJyk7CiAgICBsaS5hcHBlbmQoc3BhbihmaWxlLm5hbWUsIHtmb250V2VpZ2h0OiAnYm9sZCd9KSk7CiAgICBsaS5hcHBlbmQoc3BhbigKICAgICAgICBgKCR7ZmlsZS50eXBlIHx8ICduL2EnfSkgLSAke2ZpbGUuc2l6ZX0gYnl0ZXMsIGAgKwogICAgICAgIGBsYXN0IG1vZGlmaWVkOiAkewogICAgICAgICAgICBmaWxlLmxhc3RNb2RpZmllZERhdGUgPyBmaWxlLmxhc3RNb2RpZmllZERhdGUudG9Mb2NhbGVEYXRlU3RyaW5nKCkgOgogICAgICAgICAgICAgICAgICAgICAgICAgICAgICAgICAgICAnbi9hJ30gLSBgKSk7CiAgICBjb25zdCBwZXJjZW50ID0gc3BhbignMCUgZG9uZScpOwogICAgbGkuYXBwZW5kQ2hpbGQocGVyY2VudCk7CgogICAgb3V0cHV0RWxlbWVudC5hcHBlbmRDaGlsZChsaSk7CgogICAgY29uc3QgZmlsZURhdGFQcm9taXNlID0gbmV3IFByb21pc2UoKHJlc29sdmUpID0+IHsKICAgICAgY29uc3QgcmVhZGVyID0gbmV3IEZpbGVSZWFkZXIoKTsKICAgICAgcmVhZGVyLm9ubG9hZCA9IChlKSA9PiB7CiAgICAgICAgcmVzb2x2ZShlLnRhcmdldC5yZXN1bHQpOwogICAgICB9OwogICAgICByZWFkZXIucmVhZEFzQXJyYXlCdWZmZXIoZmlsZSk7CiAgICB9KTsKICAgIC8vIFdhaXQgZm9yIHRoZSBkYXRhIHRvIGJlIHJlYWR5LgogICAgbGV0IGZpbGVEYXRhID0geWllbGQgewogICAgICBwcm9taXNlOiBmaWxlRGF0YVByb21pc2UsCiAgICAgIHJlc3BvbnNlOiB7CiAgICAgICAgYWN0aW9uOiAnY29udGludWUnLAogICAgICB9CiAgICB9OwoKICAgIC8vIFVzZSBhIGNodW5rZWQgc2VuZGluZyB0byBhdm9pZCBtZXNzYWdlIHNpemUgbGltaXRzLiBTZWUgYi82MjExNTY2MC4KICAgIGxldCBwb3NpdGlvbiA9IDA7CiAgICB3aGlsZSAocG9zaXRpb24gPCBmaWxlRGF0YS5ieXRlTGVuZ3RoKSB7CiAgICAgIGNvbnN0IGxlbmd0aCA9IE1hdGgubWluKGZpbGVEYXRhLmJ5dGVMZW5ndGggLSBwb3NpdGlvbiwgTUFYX1BBWUxPQURfU0laRSk7CiAgICAgIGNvbnN0IGNodW5rID0gbmV3IFVpbnQ4QXJyYXkoZmlsZURhdGEsIHBvc2l0aW9uLCBsZW5ndGgpOwogICAgICBwb3NpdGlvbiArPSBsZW5ndGg7CgogICAgICBjb25zdCBiYXNlNjQgPSBidG9hKFN0cmluZy5mcm9tQ2hhckNvZGUuYXBwbHkobnVsbCwgY2h1bmspKTsKICAgICAgeWllbGQgewogICAgICAgIHJlc3BvbnNlOiB7CiAgICAgICAgICBhY3Rpb246ICdhcHBlbmQnLAogICAgICAgICAgZmlsZTogZmlsZS5uYW1lLAogICAgICAgICAgZGF0YTogYmFzZTY0LAogICAgICAgIH0sCiAgICAgIH07CiAgICAgIHBlcmNlbnQudGV4dENvbnRlbnQgPQogICAgICAgICAgYCR7TWF0aC5yb3VuZCgocG9zaXRpb24gLyBmaWxlRGF0YS5ieXRlTGVuZ3RoKSAqIDEwMCl9JSBkb25lYDsKICAgIH0KICB9CgogIC8vIEFsbCBkb25lLgogIHlpZWxkIHsKICAgIHJlc3BvbnNlOiB7CiAgICAgIGFjdGlvbjogJ2NvbXBsZXRlJywKICAgIH0KICB9Owp9CgpzY29wZS5nb29nbGUgPSBzY29wZS5nb29nbGUgfHwge307CnNjb3BlLmdvb2dsZS5jb2xhYiA9IHNjb3BlLmdvb2dsZS5jb2xhYiB8fCB7fTsKc2NvcGUuZ29vZ2xlLmNvbGFiLl9maWxlcyA9IHsKICBfdXBsb2FkRmlsZXMsCiAgX3VwbG9hZEZpbGVzQ29udGludWUsCn07Cn0pKHNlbGYpOwo=",
              "ok": true,
              "headers": [
                [
                  "content-type",
                  "application/javascript"
                ]
              ],
              "status": 200,
              "status_text": ""
            }
          },
          "base_uri": "https://localhost:8080/",
          "height": 41
        }
      },
      "source": [
        "from google.colab import files\n",
        "Utils = files.upload()"
      ],
      "execution_count": 0,
      "outputs": [
        {
          "output_type": "display_data",
          "data": {
            "text/html": [
              "\n",
              "     <input type=\"file\" id=\"files-4b4b7f3c-82ab-42d3-985a-cb40a92d6b7f\" name=\"files[]\" multiple disabled />\n",
              "     <output id=\"result-4b4b7f3c-82ab-42d3-985a-cb40a92d6b7f\">\n",
              "      Upload widget is only available when the cell has been executed in the\n",
              "      current browser session. Please rerun this cell to enable.\n",
              "      </output>\n",
              "      <script src=\"/nbextensions/google.colab/files.js\"></script> "
            ],
            "text/plain": [
              "<IPython.core.display.HTML object>"
            ]
          },
          "metadata": {
            "tags": []
          }
        }
      ]
    },
    {
      "cell_type": "code",
      "metadata": {
        "id": "DcsgrLOcpIOv",
        "colab_type": "code",
        "colab": {}
      },
      "source": [
        "import se_resnet8_cbof\n",
        "import cbof"
      ],
      "execution_count": 0,
      "outputs": []
    },
    {
      "cell_type": "code",
      "metadata": {
        "id": "aEGqqjvGo7dv",
        "colab_type": "code",
        "colab": {}
      },
      "source": [
        "def res4_model_ss():\n",
        "    model_res4  = se_resnet8_cbof.SE_ResNet8((1, windowSize, windowSize, K),16,64)\n",
        "\n",
        "    RMS = RMSprop(lr=0.0003)\n",
        "    # Let's train the model using RMSprop\n",
        "    model_res4.compile(loss='categorical_crossentropy', optimizer=RMS, metrics=['accuracy'])\n",
        "\n",
        "    return model_res4 "
      ],
      "execution_count": 0,
      "outputs": []
    },
    {
      "cell_type": "code",
      "metadata": {
        "id": "sEcIWdOQptX3",
        "colab_type": "code",
        "outputId": "c4ff47c2-b94c-4759-922e-2a919cf54178",
        "colab": {
          "base_uri": "https://localhost:8080/",
          "height": 269
        }
      },
      "source": [
        "import os\n",
        "data_path = '/content/gdrive/My Drive/' # Add the desired path for output here\n",
        "os.listdir(data_path)"
      ],
      "execution_count": 0,
      "outputs": [
        {
          "output_type": "execute_result",
          "data": {
            "text/plain": [
              "['Model_SA',\n",
              " 'Model_IP',\n",
              " 'Model_PU',\n",
              " 'predictions_IP_10.jpg',\n",
              " 'predictions_IP_20.jpg',\n",
              " 'predictions_IP_25.jpg',\n",
              " 'predictions_IP_25_new.jpg',\n",
              " 'foo.csv',\n",
              " 'digits_tsne-generated_16_cluster.png',\n",
              " 'digits_tsne-generated_16_cluster.pdf',\n",
              " 'foo1.csv',\n",
              " 'digits_tsne-generated_16_cluster_PU.pdf',\n",
              " 'digits_tsne-generated_16_cluster_SA.pdf',\n",
              " 'digits_tsne-generated_16_cluster_IP.pdf',\n",
              " 'pu.csv']"
            ]
          },
          "metadata": {
            "tags": []
          },
          "execution_count": 56
        }
      ]
    },
    {
      "cell_type": "code",
      "metadata": {
        "id": "xGqSt4FnqaFj",
        "colab_type": "code",
        "outputId": "4af60f2a-2e0e-4bba-ccdb-adc91c7a0fa5",
        "colab": {
          "resources": {
            "http://localhost:8080/nbextensions/google.colab/files.js": {
              "data": "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",
              "ok": true,
              "headers": [
                [
                  "content-type",
                  "application/javascript"
                ]
              ],
              "status": 200,
              "status_text": ""
            }
          },
          "base_uri": "https://localhost:8080/",
          "height": 41
        }
      },
      "source": [
        "from google.colab import files\n",
        "fl = files.upload()"
      ],
      "execution_count": 0,
      "outputs": [
        {
          "output_type": "display_data",
          "data": {
            "text/html": [
              "\n",
              "     <input type=\"file\" id=\"files-8d4f1250-3f85-45ef-aeae-d165e4baa3ca\" name=\"files[]\" multiple disabled />\n",
              "     <output id=\"result-8d4f1250-3f85-45ef-aeae-d165e4baa3ca\">\n",
              "      Upload widget is only available when the cell has been executed in the\n",
              "      current browser session. Please rerun this cell to enable.\n",
              "      </output>\n",
              "      <script src=\"/nbextensions/google.colab/files.js\"></script> "
            ],
            "text/plain": [
              "<IPython.core.display.HTML object>"
            ]
          },
          "metadata": {
            "tags": []
          }
        }
      ]
    },
    {
      "cell_type": "code",
      "metadata": {
        "id": "M16p-17_qjwv",
        "colab_type": "code",
        "outputId": "cb6713a0-9287-4c38-f300-c7ffa5c62917",
        "colab": {
          "base_uri": "https://localhost:8080/",
          "height": 286
        }
      },
      "source": [
        "!unrar e -y utils3.rar"
      ],
      "execution_count": 0,
      "outputs": [
        {
          "output_type": "stream",
          "text": [
            "\n",
            "UNRAR 5.50 freeware      Copyright (c) 1993-2017 Alexander Roshal\n",
            "\n",
            "\n",
            "Extracting from utils3.rar\n",
            "\n",
            "Extracting  averageAccuracy.py                                           \b\b\b\b  2%\b\b\b\b\b  OK \n",
            "Extracting  doPCA.py                                                     \b\b\b\b  4%\b\b\b\b\b  OK \n",
            "Extracting  modelStatsRecord.py                                          \b\b\b\b 11%\b\b\b\b\b  OK \n",
            "Extracting  New Text Document.txt                                        \b\b\b\b 12%\b\b\b\b\b  OK \n",
            "Extracting  normalization.py                                             \b\b\b\b 14%\b\b\b\b\b  OK \n",
            "Extracting  Rawdata_3D_ResNet.py                                         \b\b\b\b 42%\b\b\b\b\b  OK \n",
            "Extracting  Real3D_conv.py                                               \b\b\b\b 67%\b\b\b\b\b  OK \n",
            "Extracting  ssrn_SS_IN.py                                                \b\b\b\b 96%\b\b\b\b\b  OK \n",
            "Extracting  zeroPadding.py                                               \b\b\b\b 99%\b\b\b\b\b  OK \n",
            "All OK\n"
          ],
          "name": "stdout"
        }
      ]
    },
    {
      "cell_type": "code",
      "metadata": {
        "id": "UCplSuzfuC1y",
        "colab_type": "code",
        "colab": {}
      },
      "source": [
        "import zeroPadding\n",
        "import normalization\n",
        "import doPCA\n",
        "import modelStatsRecord\n",
        "import averageAccuracy\n",
        "import ssrn_SS_IN"
      ],
      "execution_count": 0,
      "outputs": []
    },
    {
      "cell_type": "code",
      "metadata": {
        "id": "tdTRC500pcsr",
        "colab_type": "code",
        "outputId": "b1f9b5bf-f457-45ce-fee8-4af6219f9e22",
        "colab": {
          "base_uri": "https://localhost:8080/",
          "height": 1000
        }
      },
      "source": [
        "for index_iter in range(1):\n",
        "    print(\"# %d Iteration\" % (index_iter + 1))\n",
        "\n",
        "    # save the best validated model \n",
        "    \n",
        "    best_weights_RES_path_ss4 = data_path+ 'Model_' + dataset +'/' + str(\n",
        "        index_iter + 1) + '_NEW_KERNEL32_20_B_32_se.hdf5'\n",
        "\n",
        "    \n",
        "\n",
        "    # TRAIN_SIZE = len(train_indices)\n",
        "    # print (TRAIN_SIZE)\n",
        "    #\n",
        "    # TEST_SIZE = TOTAL_SIZE - TRAIN_SIZE - VAL_SIZE\n",
        "    # print (TEST_SIZE)\n",
        "\n",
        "    # print (\"Validation data:\")\n",
        "    # collections.Counter(y_test_raw[-VAL_SIZE:])\n",
        "    # print (\"Testing data:\")\n",
        "    # collections.Counter(y_test_raw[:-VAL_SIZE])\n",
        "\n",
        "    #train_assign = indexToAssignment(train_indices, whole_data.shape[0], whole_data.shape[1], PATCH_LENGTH)\n",
        "    #for i in range(len(train_assign)):\n",
        "    #    train_data[i] = selectNeighboringPatch(padded_data, train_assign[i][0], train_assign[i][1], PATCH_LENGTH)\n",
        "\n",
        "    #test_assign = indexToAssignment(test_indices, whole_data.shape[0], whole_data.shape[1], PATCH_LENGTH)\n",
        "    #for i in range(len(test_assign)):\n",
        "    #    test_data[i] = selectNeighboringPatch(padded_data, test_assign[i][0], test_assign[i][1], PATCH_LENGTH)\n",
        "\n",
        "    #train_X = train_X.reshape(train_X.shape[0], train_X.shape[1], train_X.shape[2], 30)\n",
        "    #test_X = test_X.reshape(test_X.shape[0], test_X.shape[1], test_X.shape[2], 30)\n",
        "    #val_X = val_X.reshape(val_X.shape[0], val_X.shape[1], val_X.shape[2], 30)\n",
        "\n",
        "    #x_val = x_test_all[-VAL_SIZE:]\n",
        "    #y_val = y_test[-VAL_SIZE:]\n",
        "\n",
        "    #x_test = x_test_all[:-VAL_SIZE]\n",
        "   # y_test = y_test[:-VAL_SIZE]\n",
        "\n",
        "    # SS Residual Network 4 with BN\n",
        "    model_res4_SS_BN = res4_model_ss()\n",
        "\n",
        "    earlyStopping6 = kcallbacks.EarlyStopping(monitor='val_loss', patience=200, verbose=1, mode='auto')\n",
        "    saveBestModel6 = kcallbacks.ModelCheckpoint(best_weights_RES_path_ss4, monitor='val_loss', verbose=1,\n",
        "                                                save_best_only=True,\n",
        "                                                mode='auto')\n",
        "\n",
        "    tic6 = time.clock()\n",
        "    print(train_X.shape, test_X.shape)\n",
        "    history_res4_SS_BN = model_res4_SS_BN.fit(\n",
        "        train_X, train_Y,\n",
        "        validation_data=(val_X, val_Y),\n",
        "        batch_size=32,\n",
        "        nb_epoch=200, shuffle=True, callbacks=[earlyStopping6])#,saveBestModel6])\n",
        "    toc6 = time.clock()\n",
        "\n",
        "    tic7 = time.clock()\n",
        "    loss_and_metrics_res4_SS_BN = model_res4_SS_BN.evaluate(\n",
        "        test_X, test_Y,\n",
        "        batch_size=32)\n",
        "    toc7 = time.clock()\n",
        "\n",
        "    print('3D RES_SS4 without BN Training Time: ', toc6 - tic6)\n",
        "    print('3D RES_SS4 without BN Test time:', toc7 - tic7)\n",
        "\n",
        "    print('3D RES_SS4 without BN Test score:', loss_and_metrics_res4_SS_BN[0])\n",
        "    print('3D RES_SS4 without BN Test accuracy:', loss_and_metrics_res4_SS_BN[1])\n",
        "\n",
        "    print(history_res4_SS_BN.history.keys())\n",
        "\n",
        "    pred_test_res4 = model_res4_SS_BN.predict(test_X).argmax(axis=1)\n",
        "    collections.Counter(pred_test_res4)\n",
        "    gt_test = test_Y\n",
        "    overall_acc_res4 = metrics.accuracy_score(pred_test_res4, gt_test.argmax(axis=1))\n",
        "    confusion_matrix_res4 = metrics.confusion_matrix(pred_test_res4, gt_test.argmax(axis=1))\n",
        "    each_acc_res4, average_acc_res4 = averageAccuracy.AA_andEachClassAccuracy(confusion_matrix_res4)\n",
        "    kappa = metrics.cohen_kappa_score(pred_test_res4, gt_test.argmax(axis=1))\n",
        "    KAPPA_RES_SS4.append(kappa)\n",
        "    OA_RES_SS4.append(overall_acc_res4)\n",
        "    AA_RES_SS4.append(average_acc_res4)\n",
        "    TRAINING_TIME_RES_SS4.append(toc6 - tic6)\n",
        "    TESTING_TIME_RES_SS4.append(toc7 - tic7)\n",
        "    ELEMENT_ACC_RES_SS4[index_iter, :] = each_acc_res4\n",
        "\n",
        "    print(\"3D RESNET_SS4 without BN training finished.\")\n",
        "    print(\"# %d Iteration\" % (index_iter + 1))\n",
        "\n",
        "modelStatsRecord.outputStats(KAPPA_RES_SS4, OA_RES_SS4, AA_RES_SS4, ELEMENT_ACC_RES_SS4,\n",
        "                             TRAINING_TIME_RES_SS4, TESTING_TIME_RES_SS4,\n",
        "                             history_res4_SS_BN, loss_and_metrics_res4_SS_BN, 16,\n",
        "                             data_path+'Model_' + dataset + '/IN_train_RESNET8_KERNEL32_20_B_64_bcof_64_nooverlapping_7.txt',\n",
        "                             data_path+'Model_' + dataset + '/IN_train_RESNET8_KERNEL32_20_B_32_IP_element_10_bcof_64_nooverlapping_7.txt')"
      ],
      "execution_count": 0,
      "outputs": [
        {
          "output_type": "stream",
          "text": [
            "# 1 Iteration\n",
            "input shape: (None, 15, 15, 12, 64)\n",
            "input shape: (None, 13, 13, 1, 64)\n",
            "(?, 13, 13, 1, 64)\n",
            "(?, 13, 13, 64)\n",
            "(None, 13, 13, 64)\n",
            "call\n",
            "output\n",
            "(None, 13, 13, 64)\n",
            "__________________________________________________________________________________________________\n",
            "Layer (type)                    Output Shape         Param #     Connected to                     \n",
            "==================================================================================================\n",
            "input_3 (InputLayer)            (None, 15, 15, 30, 1 0                                            \n",
            "__________________________________________________________________________________________________\n",
            "conv3d_17 (Conv3D)              (None, 15, 15, 12, 6 512         input_3[0][0]                    \n",
            "__________________________________________________________________________________________________\n",
            "batch_normalization_17 (BatchNo (None, 15, 15, 12, 6 256         conv3d_17[0][0]                  \n",
            "__________________________________________________________________________________________________\n",
            "activation_17 (Activation)      (None, 15, 15, 12, 6 0           batch_normalization_17[0][0]     \n",
            "__________________________________________________________________________________________________\n",
            "conv3d_18 (Conv3D)              (None, 15, 15, 12, 6 36928       activation_17[0][0]              \n",
            "__________________________________________________________________________________________________\n",
            "batch_normalization_18 (BatchNo (None, 15, 15, 12, 6 256         conv3d_18[0][0]                  \n",
            "__________________________________________________________________________________________________\n",
            "activation_18 (Activation)      (None, 15, 15, 12, 6 0           batch_normalization_18[0][0]     \n",
            "__________________________________________________________________________________________________\n",
            "conv3d_19 (Conv3D)              (None, 15, 15, 12, 6 36928       activation_18[0][0]              \n",
            "__________________________________________________________________________________________________\n",
            "global_max_pooling3d_5 (GlobalM (None, 64)           0           conv3d_19[0][0]                  \n",
            "__________________________________________________________________________________________________\n",
            "reshape_9 (Reshape)             (None, 1, 1, 64)     0           global_max_pooling3d_5[0][0]     \n",
            "__________________________________________________________________________________________________\n",
            "dense_11 (Dense)                (None, 1, 1, 4)      256         reshape_9[0][0]                  \n",
            "__________________________________________________________________________________________________\n",
            "dense_12 (Dense)                (None, 1, 1, 64)     256         dense_11[0][0]                   \n",
            "__________________________________________________________________________________________________\n",
            "multiply_5 (Multiply)           (None, 15, 15, 12, 6 0           conv3d_19[0][0]                  \n",
            "                                                                 dense_12[0][0]                   \n",
            "__________________________________________________________________________________________________\n",
            "add_5 (Add)                     (None, 15, 15, 12, 6 0           multiply_5[0][0]                 \n",
            "                                                                 conv3d_19[0][0]                  \n",
            "__________________________________________________________________________________________________\n",
            "batch_normalization_19 (BatchNo (None, 15, 15, 12, 6 256         add_5[0][0]                      \n",
            "__________________________________________________________________________________________________\n",
            "activation_19 (Activation)      (None, 15, 15, 12, 6 0           batch_normalization_19[0][0]     \n",
            "__________________________________________________________________________________________________\n",
            "conv3d_20 (Conv3D)              (None, 15, 15, 1, 64 49216       activation_19[0][0]              \n",
            "__________________________________________________________________________________________________\n",
            "batch_normalization_20 (BatchNo (None, 15, 15, 1, 64 256         conv3d_20[0][0]                  \n",
            "__________________________________________________________________________________________________\n",
            "activation_20 (Activation)      (None, 15, 15, 1, 64 0           batch_normalization_20[0][0]     \n",
            "__________________________________________________________________________________________________\n",
            "reshape_10 (Reshape)            (None, 15, 15, 64, 1 0           activation_20[0][0]              \n",
            "__________________________________________________________________________________________________\n",
            "conv3d_21 (Conv3D)              (None, 13, 13, 1, 64 36928       reshape_10[0][0]                 \n",
            "__________________________________________________________________________________________________\n",
            "batch_normalization_21 (BatchNo (None, 13, 13, 1, 64 256         conv3d_21[0][0]                  \n",
            "__________________________________________________________________________________________________\n",
            "activation_21 (Activation)      (None, 13, 13, 1, 64 0           batch_normalization_21[0][0]     \n",
            "__________________________________________________________________________________________________\n",
            "conv3d_24 (Conv3D)              (None, 13, 13, 1, 64 4160        activation_21[0][0]              \n",
            "__________________________________________________________________________________________________\n",
            "global_max_pooling3d_6 (GlobalM (None, 64)           0           conv3d_24[0][0]                  \n",
            "__________________________________________________________________________________________________\n",
            "reshape_11 (Reshape)            (None, 1, 1, 64)     0           global_max_pooling3d_6[0][0]     \n",
            "__________________________________________________________________________________________________\n",
            "conv3d_22 (Conv3D)              (None, 13, 13, 1, 64 36928       activation_21[0][0]              \n",
            "__________________________________________________________________________________________________\n",
            "dense_13 (Dense)                (None, 1, 1, 4)      256         reshape_11[0][0]                 \n",
            "__________________________________________________________________________________________________\n",
            "batch_normalization_22 (BatchNo (None, 13, 13, 1, 64 256         conv3d_22[0][0]                  \n",
            "__________________________________________________________________________________________________\n",
            "dense_14 (Dense)                (None, 1, 1, 64)     256         dense_13[0][0]                   \n",
            "__________________________________________________________________________________________________\n",
            "activation_22 (Activation)      (None, 13, 13, 1, 64 0           batch_normalization_22[0][0]     \n",
            "__________________________________________________________________________________________________\n",
            "multiply_6 (Multiply)           (None, 13, 13, 1, 64 0           conv3d_24[0][0]                  \n",
            "                                                                 dense_14[0][0]                   \n",
            "__________________________________________________________________________________________________\n",
            "conv3d_23 (Conv3D)              (None, 13, 13, 1, 64 36928       activation_22[0][0]              \n",
            "__________________________________________________________________________________________________\n",
            "add_6 (Add)                     (None, 13, 13, 1, 64 0           multiply_6[0][0]                 \n",
            "                                                                 conv3d_23[0][0]                  \n",
            "__________________________________________________________________________________________________\n",
            "batch_normalization_23 (BatchNo (None, 13, 13, 1, 64 256         add_6[0][0]                      \n",
            "__________________________________________________________________________________________________\n",
            "activation_23 (Activation)      (None, 13, 13, 1, 64 0           batch_normalization_23[0][0]     \n",
            "__________________________________________________________________________________________________\n",
            "batch_normalization_24 (BatchNo (None, 13, 13, 1, 64 256         activation_23[0][0]              \n",
            "__________________________________________________________________________________________________\n",
            "activation_24 (Activation)      (None, 13, 13, 1, 64 0           batch_normalization_24[0][0]     \n",
            "__________________________________________________________________________________________________\n",
            "reshape_12 (Reshape)            (None, Dimension(13) 0           activation_24[0][0]              \n",
            "__________________________________________________________________________________________________\n",
            "bo_f__pooling_3 (BoF_Pooling)   (None, 64)           4160        reshape_12[0][0]                 \n",
            "__________________________________________________________________________________________________\n",
            "dropout_3 (Dropout)             (None, 64)           0           bo_f__pooling_3[0][0]            \n",
            "__________________________________________________________________________________________________\n",
            "dense_15 (Dense)                (None, 16)           1040        dropout_3[0][0]                  \n",
            "==================================================================================================\n",
            "Total params: 246,800\n",
            "Trainable params: 245,776\n",
            "Non-trainable params: 1,024\n",
            "__________________________________________________________________________________________________\n",
            "(3074, 15, 15, 30, 1) (6151, 15, 15, 30, 1)\n"
          ],
          "name": "stdout"
        },
        {
          "output_type": "stream",
          "text": [
            "/usr/local/lib/python3.6/dist-packages/ipykernel_launcher.py:54: UserWarning:\n",
            "\n",
            "The `nb_epoch` argument in `fit` has been renamed `epochs`.\n",
            "\n"
          ],
          "name": "stderr"
        },
        {
          "output_type": "stream",
          "text": [
            "Train on 3074 samples, validate on 1024 samples\n",
            "Epoch 1/200\n",
            "3074/3074 [==============================] - 7s 2ms/step - loss: 7.3313 - acc: 0.1558 - val_loss: 9.4160 - val_acc: 0.2480\n",
            "Epoch 2/200\n",
            "3074/3074 [==============================] - 5s 1ms/step - loss: 6.0665 - acc: 0.2632 - val_loss: 7.8574 - val_acc: 0.1758\n",
            "Epoch 3/200\n",
            "3074/3074 [==============================] - 5s 1ms/step - loss: 4.1941 - acc: 0.3926 - val_loss: 6.1101 - val_acc: 0.2715\n",
            "Epoch 4/200\n",
            "3074/3074 [==============================] - 5s 1ms/step - loss: 2.6205 - acc: 0.4860 - val_loss: 3.1286 - val_acc: 0.4766\n",
            "Epoch 5/200\n",
            "3074/3074 [==============================] - 5s 1ms/step - loss: 1.8795 - acc: 0.6047 - val_loss: 1.3156 - val_acc: 0.8262\n",
            "Epoch 6/200\n",
            "3074/3074 [==============================] - 5s 1ms/step - loss: 1.5778 - acc: 0.6789 - val_loss: 1.2949 - val_acc: 0.8135\n",
            "Epoch 7/200\n",
            "3074/3074 [==============================] - 5s 1ms/step - loss: 1.2923 - acc: 0.7411 - val_loss: 1.1752 - val_acc: 0.8232\n",
            "Epoch 8/200\n",
            "3074/3074 [==============================] - 5s 1ms/step - loss: 1.0580 - acc: 0.7866 - val_loss: 1.3017 - val_acc: 0.8369\n",
            "Epoch 9/200\n",
            "3074/3074 [==============================] - 5s 1ms/step - loss: 0.8364 - acc: 0.8191 - val_loss: 1.1027 - val_acc: 0.8369\n",
            "Epoch 10/200\n",
            "3074/3074 [==============================] - 4s 1ms/step - loss: 0.8204 - acc: 0.8302 - val_loss: 1.0687 - val_acc: 0.8066\n",
            "Epoch 11/200\n",
            "3074/3074 [==============================] - 4s 1ms/step - loss: 0.7124 - acc: 0.8543 - val_loss: 0.4329 - val_acc: 0.9307\n",
            "Epoch 12/200\n",
            "3074/3074 [==============================] - 5s 2ms/step - loss: 0.5405 - acc: 0.8822 - val_loss: 0.4337 - val_acc: 0.9062\n",
            "Epoch 13/200\n",
            "3074/3074 [==============================] - 5s 1ms/step - loss: 0.4939 - acc: 0.8923 - val_loss: 0.2734 - val_acc: 0.9629\n",
            "Epoch 14/200\n",
            "3074/3074 [==============================] - 5s 1ms/step - loss: 0.4347 - acc: 0.9115 - val_loss: 0.2508 - val_acc: 0.9629\n",
            "Epoch 15/200\n",
            "3074/3074 [==============================] - 5s 1ms/step - loss: 0.3810 - acc: 0.9252 - val_loss: 0.3018 - val_acc: 0.9590\n",
            "Epoch 16/200\n",
            "3074/3074 [==============================] - 5s 1ms/step - loss: 0.3317 - acc: 0.9366 - val_loss: 0.2861 - val_acc: 0.9502\n",
            "Epoch 17/200\n",
            "3074/3074 [==============================] - 5s 1ms/step - loss: 0.3345 - acc: 0.9330 - val_loss: 0.1832 - val_acc: 0.9785\n",
            "Epoch 18/200\n",
            "3074/3074 [==============================] - 5s 1ms/step - loss: 0.3112 - acc: 0.9444 - val_loss: 0.2116 - val_acc: 0.9756\n",
            "Epoch 19/200\n",
            "3074/3074 [==============================] - 5s 1ms/step - loss: 0.3152 - acc: 0.9460 - val_loss: 0.1647 - val_acc: 0.9873\n",
            "Epoch 20/200\n",
            "3074/3074 [==============================] - 5s 1ms/step - loss: 0.2905 - acc: 0.9519 - val_loss: 0.1992 - val_acc: 0.9717\n",
            "Epoch 21/200\n",
            "3074/3074 [==============================] - 5s 1ms/step - loss: 0.3142 - acc: 0.9483 - val_loss: 0.2586 - val_acc: 0.9648\n",
            "Epoch 22/200\n",
            "3074/3074 [==============================] - 4s 1ms/step - loss: 0.2689 - acc: 0.9512 - val_loss: 0.1833 - val_acc: 0.9814\n",
            "Epoch 23/200\n",
            "3074/3074 [==============================] - 4s 1ms/step - loss: 0.2350 - acc: 0.9623 - val_loss: 0.1880 - val_acc: 0.9795\n",
            "Epoch 24/200\n",
            "3074/3074 [==============================] - 5s 1ms/step - loss: 0.2393 - acc: 0.9636 - val_loss: 0.2129 - val_acc: 0.9727\n",
            "Epoch 25/200\n",
            "3074/3074 [==============================] - 5s 1ms/step - loss: 0.2241 - acc: 0.9671 - val_loss: 0.1374 - val_acc: 0.9902\n",
            "Epoch 26/200\n",
            "3074/3074 [==============================] - 5s 1ms/step - loss: 0.2018 - acc: 0.9704 - val_loss: 0.2104 - val_acc: 0.9746\n",
            "Epoch 27/200\n",
            "3074/3074 [==============================] - 4s 1ms/step - loss: 0.2024 - acc: 0.9710 - val_loss: 0.2283 - val_acc: 0.9746\n",
            "Epoch 28/200\n",
            "3074/3074 [==============================] - 5s 1ms/step - loss: 0.1936 - acc: 0.9763 - val_loss: 0.1977 - val_acc: 0.9844\n",
            "Epoch 29/200\n",
            "3074/3074 [==============================] - 5s 1ms/step - loss: 0.1950 - acc: 0.9750 - val_loss: 0.1540 - val_acc: 0.9912\n",
            "Epoch 30/200\n",
            "3074/3074 [==============================] - 5s 1ms/step - loss: 0.1743 - acc: 0.9789 - val_loss: 0.9565 - val_acc: 0.8535\n",
            "Epoch 31/200\n",
            "3074/3074 [==============================] - 5s 1ms/step - loss: 0.1915 - acc: 0.9782 - val_loss: 0.2490 - val_acc: 0.9648\n",
            "Epoch 32/200\n",
            "3074/3074 [==============================] - 5s 1ms/step - loss: 0.1688 - acc: 0.9834 - val_loss: 0.1762 - val_acc: 0.9795\n",
            "Epoch 33/200\n",
            "3074/3074 [==============================] - 5s 1ms/step - loss: 0.1878 - acc: 0.9795 - val_loss: 0.1724 - val_acc: 0.9883\n",
            "Epoch 34/200\n",
            "3074/3074 [==============================] - 5s 1ms/step - loss: 0.1857 - acc: 0.9753 - val_loss: 0.1647 - val_acc: 0.9863\n",
            "Epoch 35/200\n",
            "3074/3074 [==============================] - 4s 1ms/step - loss: 0.1565 - acc: 0.9886 - val_loss: 0.2339 - val_acc: 0.9766\n",
            "Epoch 36/200\n",
            "3074/3074 [==============================] - 5s 1ms/step - loss: 0.1617 - acc: 0.9844 - val_loss: 0.2220 - val_acc: 0.9766\n",
            "Epoch 37/200\n",
            "3074/3074 [==============================] - 5s 1ms/step - loss: 0.1704 - acc: 0.9789 - val_loss: 0.1613 - val_acc: 0.9883\n",
            "Epoch 38/200\n",
            "3074/3074 [==============================] - 4s 1ms/step - loss: 0.1604 - acc: 0.9834 - val_loss: 0.1966 - val_acc: 0.9854\n",
            "Epoch 39/200\n",
            "3074/3074 [==============================] - 4s 1ms/step - loss: 0.1689 - acc: 0.9847 - val_loss: 0.1879 - val_acc: 0.9834\n",
            "Epoch 40/200\n",
            "3074/3074 [==============================] - 5s 1ms/step - loss: 0.1651 - acc: 0.9811 - val_loss: 0.1588 - val_acc: 0.9873\n",
            "Epoch 41/200\n",
            "3074/3074 [==============================] - 4s 1ms/step - loss: 0.1536 - acc: 0.9863 - val_loss: 0.1761 - val_acc: 0.9873\n",
            "Epoch 42/200\n",
            "3074/3074 [==============================] - 5s 1ms/step - loss: 0.1650 - acc: 0.9815 - val_loss: 0.1722 - val_acc: 0.9883\n",
            "Epoch 43/200\n",
            "3074/3074 [==============================] - 4s 1ms/step - loss: 0.1675 - acc: 0.9831 - val_loss: 0.1383 - val_acc: 0.9912\n",
            "Epoch 44/200\n",
            "3074/3074 [==============================] - 5s 1ms/step - loss: 0.1539 - acc: 0.9831 - val_loss: 0.1677 - val_acc: 0.9893\n",
            "Epoch 45/200\n",
            "3074/3074 [==============================] - 5s 1ms/step - loss: 0.1467 - acc: 0.9880 - val_loss: 0.1536 - val_acc: 0.9893\n",
            "Epoch 46/200\n",
            "3074/3074 [==============================] - 5s 1ms/step - loss: 0.1418 - acc: 0.9883 - val_loss: 0.1548 - val_acc: 0.9902\n",
            "Epoch 47/200\n",
            "3074/3074 [==============================] - 4s 1ms/step - loss: 0.1374 - acc: 0.9893 - val_loss: 0.1840 - val_acc: 0.9902\n",
            "Epoch 48/200\n",
            "3074/3074 [==============================] - 5s 1ms/step - loss: 0.1444 - acc: 0.9893 - val_loss: 0.1231 - val_acc: 0.9922\n",
            "Epoch 49/200\n",
            "3074/3074 [==============================] - 5s 1ms/step - loss: 0.1459 - acc: 0.9899 - val_loss: 0.1587 - val_acc: 0.9902\n",
            "Epoch 50/200\n",
            "3074/3074 [==============================] - 5s 1ms/step - loss: 0.1306 - acc: 0.9909 - val_loss: 0.2521 - val_acc: 0.9785\n",
            "Epoch 51/200\n",
            "3074/3074 [==============================] - 5s 1ms/step - loss: 0.1341 - acc: 0.9906 - val_loss: 0.1268 - val_acc: 0.9941\n",
            "Epoch 52/200\n",
            "3074/3074 [==============================] - 4s 1ms/step - loss: 0.1523 - acc: 0.9857 - val_loss: 0.1905 - val_acc: 0.9883\n",
            "Epoch 53/200\n",
            "3074/3074 [==============================] - 5s 1ms/step - loss: 0.1430 - acc: 0.9906 - val_loss: 0.1595 - val_acc: 0.9844\n",
            "Epoch 54/200\n",
            "3074/3074 [==============================] - 4s 1ms/step - loss: 0.1441 - acc: 0.9880 - val_loss: 0.1257 - val_acc: 0.9902\n",
            "Epoch 55/200\n",
            "3074/3074 [==============================] - 5s 1ms/step - loss: 0.1364 - acc: 0.9883 - val_loss: 0.1948 - val_acc: 0.9844\n",
            "Epoch 56/200\n",
            "3074/3074 [==============================] - 4s 1ms/step - loss: 0.1279 - acc: 0.9922 - val_loss: 0.1414 - val_acc: 0.9922\n",
            "Epoch 57/200\n",
            "3074/3074 [==============================] - 4s 1ms/step - loss: 0.1434 - acc: 0.9863 - val_loss: 0.1381 - val_acc: 0.9893\n",
            "Epoch 58/200\n",
            "3074/3074 [==============================] - 5s 1ms/step - loss: 0.1385 - acc: 0.9896 - val_loss: 0.2268 - val_acc: 0.9834\n",
            "Epoch 59/200\n",
            "3074/3074 [==============================] - 5s 1ms/step - loss: 0.1317 - acc: 0.9909 - val_loss: 0.2058 - val_acc: 0.9854\n",
            "Epoch 60/200\n",
            "3074/3074 [==============================] - 4s 1ms/step - loss: 0.1351 - acc: 0.9886 - val_loss: 0.2209 - val_acc: 0.9844\n",
            "Epoch 61/200\n",
            "3074/3074 [==============================] - 4s 1ms/step - loss: 0.1394 - acc: 0.9867 - val_loss: 0.1566 - val_acc: 0.9873\n",
            "Epoch 62/200\n",
            "3074/3074 [==============================] - 4s 1ms/step - loss: 0.1345 - acc: 0.9906 - val_loss: 0.1629 - val_acc: 0.9883\n",
            "Epoch 63/200\n",
            "3074/3074 [==============================] - 4s 1ms/step - loss: 0.1220 - acc: 0.9909 - val_loss: 0.2089 - val_acc: 0.9707\n",
            "Epoch 64/200\n",
            "3074/3074 [==============================] - 4s 1ms/step - loss: 0.1259 - acc: 0.9915 - val_loss: 0.1374 - val_acc: 0.9941\n",
            "Epoch 65/200\n",
            "3074/3074 [==============================] - 5s 1ms/step - loss: 0.1216 - acc: 0.9912 - val_loss: 0.3073 - val_acc: 0.9717\n",
            "Epoch 66/200\n",
            "3074/3074 [==============================] - 5s 1ms/step - loss: 0.1200 - acc: 0.9954 - val_loss: 0.1612 - val_acc: 0.9893\n",
            "Epoch 67/200\n",
            "3074/3074 [==============================] - 5s 1ms/step - loss: 0.1367 - acc: 0.9883 - val_loss: 0.1394 - val_acc: 0.9932\n",
            "Epoch 68/200\n",
            "3074/3074 [==============================] - 4s 1ms/step - loss: 0.1257 - acc: 0.9909 - val_loss: 0.3177 - val_acc: 0.9648\n",
            "Epoch 69/200\n",
            "3074/3074 [==============================] - 4s 1ms/step - loss: 0.1228 - acc: 0.9932 - val_loss: 0.1583 - val_acc: 0.9883\n",
            "Epoch 70/200\n",
            "3074/3074 [==============================] - 5s 1ms/step - loss: 0.1185 - acc: 0.9925 - val_loss: 0.1254 - val_acc: 0.9932\n",
            "Epoch 71/200\n",
            "3074/3074 [==============================] - 5s 1ms/step - loss: 0.1215 - acc: 0.9922 - val_loss: 0.1883 - val_acc: 0.9873\n",
            "Epoch 72/200\n",
            "3074/3074 [==============================] - 5s 1ms/step - loss: 0.1326 - acc: 0.9902 - val_loss: 0.1987 - val_acc: 0.9854\n",
            "Epoch 73/200\n",
            "3074/3074 [==============================] - 5s 1ms/step - loss: 0.1175 - acc: 0.9935 - val_loss: 0.1381 - val_acc: 0.9961\n",
            "Epoch 74/200\n",
            "3074/3074 [==============================] - 5s 1ms/step - loss: 0.1129 - acc: 0.9954 - val_loss: 0.1187 - val_acc: 0.9961\n",
            "Epoch 75/200\n",
            "3074/3074 [==============================] - 5s 1ms/step - loss: 0.1196 - acc: 0.9945 - val_loss: 0.2284 - val_acc: 0.9834\n",
            "Epoch 76/200\n",
            "3074/3074 [==============================] - 4s 1ms/step - loss: 0.1252 - acc: 0.9928 - val_loss: 0.1982 - val_acc: 0.9883\n",
            "Epoch 77/200\n",
            "3074/3074 [==============================] - 4s 1ms/step - loss: 0.1165 - acc: 0.9935 - val_loss: 0.1890 - val_acc: 0.9844\n",
            "Epoch 78/200\n",
            "3074/3074 [==============================] - 5s 1ms/step - loss: 0.1181 - acc: 0.9915 - val_loss: 0.1748 - val_acc: 0.9902\n",
            "Epoch 79/200\n",
            "3074/3074 [==============================] - 4s 1ms/step - loss: 0.1196 - acc: 0.9941 - val_loss: 0.2122 - val_acc: 0.9766\n",
            "Epoch 80/200\n",
            "3074/3074 [==============================] - 5s 1ms/step - loss: 0.1192 - acc: 0.9928 - val_loss: 0.1670 - val_acc: 0.9902\n",
            "Epoch 81/200\n",
            "3074/3074 [==============================] - 5s 2ms/step - loss: 0.1165 - acc: 0.9935 - val_loss: 0.1851 - val_acc: 0.9902\n",
            "Epoch 82/200\n",
            "3074/3074 [==============================] - 5s 2ms/step - loss: 0.1124 - acc: 0.9928 - val_loss: 0.1751 - val_acc: 0.9844\n",
            "Epoch 83/200\n",
            "3074/3074 [==============================] - 5s 2ms/step - loss: 0.1443 - acc: 0.9873 - val_loss: 0.1867 - val_acc: 0.9873\n",
            "Epoch 84/200\n",
            "3074/3074 [==============================] - 5s 2ms/step - loss: 0.1235 - acc: 0.9912 - val_loss: 0.1751 - val_acc: 0.9883\n",
            "Epoch 85/200\n",
            "3074/3074 [==============================] - 5s 1ms/step - loss: 0.1449 - acc: 0.9870 - val_loss: 0.1808 - val_acc: 0.9902\n",
            "Epoch 86/200\n",
            "3074/3074 [==============================] - 5s 1ms/step - loss: 0.1105 - acc: 0.9948 - val_loss: 0.1218 - val_acc: 0.9912\n",
            "Epoch 87/200\n",
            "3074/3074 [==============================] - 4s 1ms/step - loss: 0.1078 - acc: 0.9941 - val_loss: 0.1264 - val_acc: 0.9932\n",
            "Epoch 88/200\n",
            "3074/3074 [==============================] - 4s 1ms/step - loss: 0.1080 - acc: 0.9948 - val_loss: 0.1528 - val_acc: 0.9854\n",
            "Epoch 89/200\n",
            "3074/3074 [==============================] - 5s 1ms/step - loss: 0.1085 - acc: 0.9945 - val_loss: 0.1802 - val_acc: 0.9766\n",
            "Epoch 90/200\n",
            "3074/3074 [==============================] - 5s 1ms/step - loss: 0.1171 - acc: 0.9935 - val_loss: 0.1495 - val_acc: 0.9941\n",
            "Epoch 91/200\n",
            "3074/3074 [==============================] - 4s 1ms/step - loss: 0.1016 - acc: 0.9967 - val_loss: 0.1956 - val_acc: 0.9873\n",
            "Epoch 92/200\n",
            "3074/3074 [==============================] - 4s 1ms/step - loss: 0.1050 - acc: 0.9948 - val_loss: 0.1392 - val_acc: 0.9932\n",
            "Epoch 93/200\n",
            "3074/3074 [==============================] - 5s 2ms/step - loss: 0.1102 - acc: 0.9941 - val_loss: 0.1190 - val_acc: 0.9922\n",
            "Epoch 94/200\n",
            "3074/3074 [==============================] - 5s 1ms/step - loss: 0.1156 - acc: 0.9919 - val_loss: 0.1553 - val_acc: 0.9912\n",
            "Epoch 95/200\n",
            "3074/3074 [==============================] - 4s 1ms/step - loss: 0.1042 - acc: 0.9964 - val_loss: 0.1452 - val_acc: 0.9902\n",
            "Epoch 96/200\n",
            "3074/3074 [==============================] - 4s 1ms/step - loss: 0.1060 - acc: 0.9958 - val_loss: 0.1308 - val_acc: 0.9922\n",
            "Epoch 97/200\n",
            "3074/3074 [==============================] - 4s 1ms/step - loss: 0.1086 - acc: 0.9935 - val_loss: 0.1347 - val_acc: 0.9912\n",
            "Epoch 98/200\n",
            "3074/3074 [==============================] - 5s 1ms/step - loss: 0.1094 - acc: 0.9948 - val_loss: 0.1448 - val_acc: 0.9932\n",
            "Epoch 99/200\n",
            "3074/3074 [==============================] - 5s 1ms/step - loss: 0.1143 - acc: 0.9945 - val_loss: 0.1324 - val_acc: 0.9932\n",
            "Epoch 100/200\n",
            "3074/3074 [==============================] - 4s 1ms/step - loss: 0.1087 - acc: 0.9941 - val_loss: 0.1377 - val_acc: 0.9922\n",
            "Epoch 101/200\n",
            "3074/3074 [==============================] - 4s 1ms/step - loss: 0.1079 - acc: 0.9938 - val_loss: 0.1526 - val_acc: 0.9912\n",
            "Epoch 102/200\n",
            "3074/3074 [==============================] - 5s 1ms/step - loss: 0.1159 - acc: 0.9948 - val_loss: 0.1915 - val_acc: 0.9824\n",
            "Epoch 103/200\n",
            "3074/3074 [==============================] - 4s 1ms/step - loss: 0.1020 - acc: 0.9961 - val_loss: 0.1750 - val_acc: 0.9883\n",
            "Epoch 104/200\n",
            "3074/3074 [==============================] - 4s 1ms/step - loss: 0.0973 - acc: 0.9967 - val_loss: 0.1546 - val_acc: 0.9912\n",
            "Epoch 105/200\n",
            "3074/3074 [==============================] - 4s 1ms/step - loss: 0.1000 - acc: 0.9961 - val_loss: 0.2396 - val_acc: 0.9766\n",
            "Epoch 106/200\n",
            "3074/3074 [==============================] - 4s 1ms/step - loss: 0.1087 - acc: 0.9938 - val_loss: 0.1093 - val_acc: 0.9951\n",
            "Epoch 107/200\n",
            "3074/3074 [==============================] - 5s 1ms/step - loss: 0.1003 - acc: 0.9958 - val_loss: 0.1662 - val_acc: 0.9932\n",
            "Epoch 108/200\n",
            "3074/3074 [==============================] - 4s 1ms/step - loss: 0.1248 - acc: 0.9915 - val_loss: 0.2380 - val_acc: 0.9785\n",
            "Epoch 109/200\n",
            "3074/3074 [==============================] - 4s 1ms/step - loss: 0.1054 - acc: 0.9945 - val_loss: 0.1665 - val_acc: 0.9912\n",
            "Epoch 110/200\n",
            "3074/3074 [==============================] - 5s 1ms/step - loss: 0.1044 - acc: 0.9945 - val_loss: 0.1340 - val_acc: 0.9941\n",
            "Epoch 111/200\n",
            "3074/3074 [==============================] - 4s 1ms/step - loss: 0.0935 - acc: 0.9977 - val_loss: 0.1055 - val_acc: 0.9932\n",
            "Epoch 112/200\n",
            "3074/3074 [==============================] - 4s 1ms/step - loss: 0.1141 - acc: 0.9925 - val_loss: 0.1390 - val_acc: 0.9941\n",
            "Epoch 113/200\n",
            "3074/3074 [==============================] - 4s 1ms/step - loss: 0.0995 - acc: 0.9961 - val_loss: 0.1716 - val_acc: 0.9912\n",
            "Epoch 114/200\n",
            "3074/3074 [==============================] - 4s 1ms/step - loss: 0.1131 - acc: 0.9935 - val_loss: 0.1624 - val_acc: 0.9922\n",
            "Epoch 115/200\n",
            "3074/3074 [==============================] - 4s 1ms/step - loss: 0.1046 - acc: 0.9938 - val_loss: 0.1446 - val_acc: 0.9922\n",
            "Epoch 116/200\n",
            "3074/3074 [==============================] - 4s 1ms/step - loss: 0.0956 - acc: 0.9967 - val_loss: 0.1625 - val_acc: 0.9932\n",
            "Epoch 117/200\n",
            "3074/3074 [==============================] - 4s 1ms/step - loss: 0.0975 - acc: 0.9958 - val_loss: 0.1824 - val_acc: 0.9883\n",
            "Epoch 118/200\n",
            "3074/3074 [==============================] - 5s 1ms/step - loss: 0.1072 - acc: 0.9941 - val_loss: 0.1439 - val_acc: 0.9922\n",
            "Epoch 119/200\n",
            "3074/3074 [==============================] - 4s 1ms/step - loss: 0.1081 - acc: 0.9919 - val_loss: 0.1410 - val_acc: 0.9922\n",
            "Epoch 120/200\n",
            "3074/3074 [==============================] - 4s 1ms/step - loss: 0.1081 - acc: 0.9945 - val_loss: 0.1579 - val_acc: 0.9902\n",
            "Epoch 121/200\n",
            "3074/3074 [==============================] - 4s 1ms/step - loss: 0.0948 - acc: 0.9977 - val_loss: 0.2227 - val_acc: 0.9854\n",
            "Epoch 122/200\n",
            "3074/3074 [==============================] - 4s 1ms/step - loss: 0.1132 - acc: 0.9935 - val_loss: 0.3381 - val_acc: 0.9688\n",
            "Epoch 123/200\n",
            "3074/3074 [==============================] - 5s 1ms/step - loss: 0.1007 - acc: 0.9945 - val_loss: 0.1257 - val_acc: 0.9951\n",
            "Epoch 124/200\n",
            "3074/3074 [==============================] - 4s 1ms/step - loss: 0.1035 - acc: 0.9945 - val_loss: 0.1761 - val_acc: 0.9883\n",
            "Epoch 125/200\n",
            "3074/3074 [==============================] - 4s 1ms/step - loss: 0.1030 - acc: 0.9938 - val_loss: 0.1241 - val_acc: 0.9932\n",
            "Epoch 126/200\n",
            "3074/3074 [==============================] - 4s 1ms/step - loss: 0.0976 - acc: 0.9954 - val_loss: 0.1833 - val_acc: 0.9883\n",
            "Epoch 127/200\n",
            "3074/3074 [==============================] - 4s 1ms/step - loss: 0.0955 - acc: 0.9948 - val_loss: 0.1537 - val_acc: 0.9883\n",
            "Epoch 128/200\n",
            "3074/3074 [==============================] - 4s 1ms/step - loss: 0.0978 - acc: 0.9948 - val_loss: 0.1161 - val_acc: 0.9951\n",
            "Epoch 129/200\n",
            "3074/3074 [==============================] - 4s 1ms/step - loss: 0.0917 - acc: 0.9964 - val_loss: 0.2699 - val_acc: 0.9688\n",
            "Epoch 130/200\n",
            "3074/3074 [==============================] - 4s 1ms/step - loss: 0.0986 - acc: 0.9935 - val_loss: 0.2368 - val_acc: 0.9814\n",
            "Epoch 131/200\n",
            "3074/3074 [==============================] - 4s 1ms/step - loss: 0.1003 - acc: 0.9941 - val_loss: 0.1347 - val_acc: 0.9893\n",
            "Epoch 132/200\n",
            "3074/3074 [==============================] - 4s 1ms/step - loss: 0.0936 - acc: 0.9958 - val_loss: 0.1377 - val_acc: 0.9922\n",
            "Epoch 133/200\n",
            "3074/3074 [==============================] - 4s 1ms/step - loss: 0.1031 - acc: 0.9945 - val_loss: 0.1320 - val_acc: 0.9902\n",
            "Epoch 134/200\n",
            "3074/3074 [==============================] - 4s 1ms/step - loss: 0.0927 - acc: 0.9971 - val_loss: 0.1603 - val_acc: 0.9902\n",
            "Epoch 135/200\n",
            "3074/3074 [==============================] - 5s 1ms/step - loss: 0.1031 - acc: 0.9928 - val_loss: 0.1270 - val_acc: 0.9932\n",
            "Epoch 136/200\n",
            "3074/3074 [==============================] - 4s 1ms/step - loss: 0.1018 - acc: 0.9951 - val_loss: 0.2226 - val_acc: 0.9795\n",
            "Epoch 137/200\n",
            "3074/3074 [==============================] - 4s 1ms/step - loss: 0.1070 - acc: 0.9938 - val_loss: 0.1014 - val_acc: 0.9941\n",
            "Epoch 138/200\n",
            "3074/3074 [==============================] - 4s 1ms/step - loss: 0.0886 - acc: 0.9971 - val_loss: 0.1304 - val_acc: 0.9951\n",
            "Epoch 139/200\n",
            "3074/3074 [==============================] - 4s 1ms/step - loss: 0.0918 - acc: 0.9964 - val_loss: 0.1085 - val_acc: 0.9951\n",
            "Epoch 140/200\n",
            "3074/3074 [==============================] - 4s 1ms/step - loss: 0.0958 - acc: 0.9958 - val_loss: 0.1089 - val_acc: 0.9951\n",
            "Epoch 141/200\n",
            "3074/3074 [==============================] - 4s 1ms/step - loss: 0.0970 - acc: 0.9932 - val_loss: 0.1987 - val_acc: 0.9873\n",
            "Epoch 142/200\n",
            "3074/3074 [==============================] - 4s 1ms/step - loss: 0.0930 - acc: 0.9945 - val_loss: 0.1390 - val_acc: 0.9922\n",
            "Epoch 143/200\n",
            "3074/3074 [==============================] - 4s 1ms/step - loss: 0.0957 - acc: 0.9945 - val_loss: 0.1190 - val_acc: 0.9941\n",
            "Epoch 144/200\n",
            "3074/3074 [==============================] - 5s 1ms/step - loss: 0.0930 - acc: 0.9951 - val_loss: 0.1004 - val_acc: 0.9941\n",
            "Epoch 145/200\n",
            "3074/3074 [==============================] - 4s 1ms/step - loss: 0.0966 - acc: 0.9958 - val_loss: 0.1258 - val_acc: 0.9902\n",
            "Epoch 146/200\n",
            "3074/3074 [==============================] - 4s 1ms/step - loss: 0.0961 - acc: 0.9958 - val_loss: 0.2049 - val_acc: 0.9863\n",
            "Epoch 147/200\n",
            "3074/3074 [==============================] - 4s 1ms/step - loss: 0.1071 - acc: 0.9928 - val_loss: 0.1070 - val_acc: 0.9971\n",
            "Epoch 148/200\n",
            "3074/3074 [==============================] - 4s 1ms/step - loss: 0.0940 - acc: 0.9948 - val_loss: 0.1413 - val_acc: 0.9902\n",
            "Epoch 149/200\n",
            "3074/3074 [==============================] - 4s 1ms/step - loss: 0.0918 - acc: 0.9951 - val_loss: 0.1645 - val_acc: 0.9893\n",
            "Epoch 150/200\n",
            "3074/3074 [==============================] - 5s 1ms/step - loss: 0.1030 - acc: 0.9932 - val_loss: 0.1982 - val_acc: 0.9824\n",
            "Epoch 151/200\n",
            "3074/3074 [==============================] - 5s 1ms/step - loss: 0.0978 - acc: 0.9948 - val_loss: 0.0819 - val_acc: 0.9971\n",
            "Epoch 152/200\n",
            "3074/3074 [==============================] - 4s 1ms/step - loss: 0.0952 - acc: 0.9951 - val_loss: 0.0906 - val_acc: 0.9971\n",
            "Epoch 153/200\n",
            "3074/3074 [==============================] - 4s 1ms/step - loss: 0.0894 - acc: 0.9951 - val_loss: 0.1155 - val_acc: 0.9922\n",
            "Epoch 154/200\n",
            "3074/3074 [==============================] - 4s 1ms/step - loss: 0.0895 - acc: 0.9958 - val_loss: 0.1132 - val_acc: 0.9941\n",
            "Epoch 155/200\n",
            "3074/3074 [==============================] - 4s 1ms/step - loss: 0.1141 - acc: 0.9919 - val_loss: 0.1155 - val_acc: 0.9961\n",
            "Epoch 156/200\n",
            "3074/3074 [==============================] - 4s 1ms/step - loss: 0.0963 - acc: 0.9948 - val_loss: 0.1086 - val_acc: 0.9941\n",
            "Epoch 157/200\n",
            "3074/3074 [==============================] - 4s 1ms/step - loss: 0.0887 - acc: 0.9961 - val_loss: 0.1106 - val_acc: 0.9961\n",
            "Epoch 158/200\n",
            "3074/3074 [==============================] - 4s 1ms/step - loss: 0.0913 - acc: 0.9941 - val_loss: 0.1303 - val_acc: 0.9941\n",
            "Epoch 159/200\n",
            "3074/3074 [==============================] - 4s 1ms/step - loss: 0.1033 - acc: 0.9928 - val_loss: 0.1360 - val_acc: 0.9922\n",
            "Epoch 160/200\n",
            "3074/3074 [==============================] - 4s 1ms/step - loss: 0.1027 - acc: 0.9925 - val_loss: 0.1896 - val_acc: 0.9902\n",
            "Epoch 161/200\n",
            "3074/3074 [==============================] - 4s 1ms/step - loss: 0.0918 - acc: 0.9948 - val_loss: 0.2404 - val_acc: 0.9824\n",
            "Epoch 162/200\n",
            "3074/3074 [==============================] - 4s 1ms/step - loss: 0.0897 - acc: 0.9954 - val_loss: 0.1666 - val_acc: 0.9902\n",
            "Epoch 163/200\n",
            "3074/3074 [==============================] - 4s 1ms/step - loss: 0.0943 - acc: 0.9938 - val_loss: 0.3091 - val_acc: 0.9707\n",
            "Epoch 164/200\n",
            "3074/3074 [==============================] - 4s 1ms/step - loss: 0.0959 - acc: 0.9928 - val_loss: 0.1292 - val_acc: 0.9951\n",
            "Epoch 165/200\n",
            "3074/3074 [==============================] - 5s 1ms/step - loss: 0.1107 - acc: 0.9919 - val_loss: 0.1096 - val_acc: 0.9932\n",
            "Epoch 166/200\n",
            "3074/3074 [==============================] - 4s 1ms/step - loss: 0.0882 - acc: 0.9964 - val_loss: 0.1612 - val_acc: 0.9912\n",
            "Epoch 167/200\n",
            "3074/3074 [==============================] - 4s 1ms/step - loss: 0.0887 - acc: 0.9954 - val_loss: 0.1473 - val_acc: 0.9893\n",
            "Epoch 168/200\n",
            "3074/3074 [==============================] - 4s 1ms/step - loss: 0.0953 - acc: 0.9958 - val_loss: 0.2061 - val_acc: 0.9854\n",
            "Epoch 169/200\n",
            "3074/3074 [==============================] - 4s 1ms/step - loss: 0.0941 - acc: 0.9945 - val_loss: 0.1474 - val_acc: 0.9922\n",
            "Epoch 170/200\n",
            "3074/3074 [==============================] - 4s 1ms/step - loss: 0.0887 - acc: 0.9971 - val_loss: 0.1707 - val_acc: 0.9912\n",
            "Epoch 171/200\n",
            "3074/3074 [==============================] - 4s 1ms/step - loss: 0.1032 - acc: 0.9938 - val_loss: 0.1426 - val_acc: 0.9932\n",
            "Epoch 172/200\n",
            "3074/3074 [==============================] - 4s 1ms/step - loss: 0.0856 - acc: 0.9958 - val_loss: 0.1278 - val_acc: 0.9951\n",
            "Epoch 173/200\n",
            "3074/3074 [==============================] - 4s 1ms/step - loss: 0.0826 - acc: 0.9971 - val_loss: 0.1391 - val_acc: 0.9922\n",
            "Epoch 174/200\n",
            "3074/3074 [==============================] - 4s 1ms/step - loss: 0.0834 - acc: 0.9964 - val_loss: 0.1463 - val_acc: 0.9912\n",
            "Epoch 175/200\n",
            "3074/3074 [==============================] - 4s 1ms/step - loss: 0.0991 - acc: 0.9928 - val_loss: 0.1245 - val_acc: 0.9932\n",
            "Epoch 176/200\n",
            "3074/3074 [==============================] - 4s 1ms/step - loss: 0.0933 - acc: 0.9928 - val_loss: 0.1332 - val_acc: 0.9941\n",
            "Epoch 177/200\n",
            "3074/3074 [==============================] - 4s 1ms/step - loss: 0.0896 - acc: 0.9948 - val_loss: 0.1131 - val_acc: 0.9951\n",
            "Epoch 178/200\n",
            "3074/3074 [==============================] - 4s 1ms/step - loss: 0.0895 - acc: 0.9961 - val_loss: 0.1460 - val_acc: 0.9932\n",
            "Epoch 179/200\n",
            "3074/3074 [==============================] - 4s 1ms/step - loss: 0.0933 - acc: 0.9945 - val_loss: 0.1194 - val_acc: 0.9941\n",
            "Epoch 180/200\n",
            "3074/3074 [==============================] - 4s 1ms/step - loss: 0.0820 - acc: 0.9980 - val_loss: 0.1645 - val_acc: 0.9922\n",
            "Epoch 181/200\n",
            "3074/3074 [==============================] - 4s 1ms/step - loss: 0.0824 - acc: 0.9974 - val_loss: 0.1477 - val_acc: 0.9922\n",
            "Epoch 182/200\n",
            "3074/3074 [==============================] - 4s 1ms/step - loss: 0.1006 - acc: 0.9945 - val_loss: 0.1267 - val_acc: 0.9941\n",
            "Epoch 183/200\n",
            "3074/3074 [==============================] - 4s 1ms/step - loss: 0.0909 - acc: 0.9961 - val_loss: 0.1783 - val_acc: 0.9912\n",
            "Epoch 184/200\n",
            "3074/3074 [==============================] - 4s 1ms/step - loss: 0.0873 - acc: 0.9954 - val_loss: 0.1597 - val_acc: 0.9932\n",
            "Epoch 185/200\n",
            "3074/3074 [==============================] - 4s 1ms/step - loss: 0.0879 - acc: 0.9967 - val_loss: 0.1496 - val_acc: 0.9893\n",
            "Epoch 186/200\n",
            "3074/3074 [==============================] - 4s 1ms/step - loss: 0.0889 - acc: 0.9958 - val_loss: 0.1401 - val_acc: 0.9932\n",
            "Epoch 187/200\n",
            "3074/3074 [==============================] - 5s 1ms/step - loss: 0.0871 - acc: 0.9954 - val_loss: 0.1291 - val_acc: 0.9951\n",
            "Epoch 188/200\n",
            "3074/3074 [==============================] - 4s 1ms/step - loss: 0.0805 - acc: 0.9971 - val_loss: 0.1418 - val_acc: 0.9932\n",
            "Epoch 189/200\n",
            "3074/3074 [==============================] - 4s 1ms/step - loss: 0.0913 - acc: 0.9948 - val_loss: 0.1188 - val_acc: 0.9941\n",
            "Epoch 190/200\n",
            "3074/3074 [==============================] - 5s 1ms/step - loss: 0.0867 - acc: 0.9948 - val_loss: 0.2738 - val_acc: 0.9766\n",
            "Epoch 191/200\n",
            "3074/3074 [==============================] - 4s 1ms/step - loss: 0.0872 - acc: 0.9964 - val_loss: 0.1463 - val_acc: 0.9873\n",
            "Epoch 192/200\n",
            "3074/3074 [==============================] - 4s 1ms/step - loss: 0.0875 - acc: 0.9945 - val_loss: 0.1280 - val_acc: 0.9932\n",
            "Epoch 193/200\n",
            "3074/3074 [==============================] - 4s 1ms/step - loss: 0.0896 - acc: 0.9958 - val_loss: 0.1193 - val_acc: 0.9941\n",
            "Epoch 194/200\n",
            "3074/3074 [==============================] - 4s 1ms/step - loss: 0.0817 - acc: 0.9964 - val_loss: 0.1318 - val_acc: 0.9951\n",
            "Epoch 195/200\n",
            "3074/3074 [==============================] - 4s 1ms/step - loss: 0.0941 - acc: 0.9935 - val_loss: 0.2408 - val_acc: 0.9795\n",
            "Epoch 196/200\n",
            "3074/3074 [==============================] - 4s 1ms/step - loss: 0.0884 - acc: 0.9945 - val_loss: 0.2560 - val_acc: 0.9766\n",
            "Epoch 197/200\n",
            "3074/3074 [==============================] - 4s 1ms/step - loss: 0.0889 - acc: 0.9951 - val_loss: 0.1215 - val_acc: 0.9951\n",
            "Epoch 198/200\n",
            "3074/3074 [==============================] - 4s 1ms/step - loss: 0.0814 - acc: 0.9971 - val_loss: 0.1208 - val_acc: 0.9951\n",
            "Epoch 199/200\n",
            "3074/3074 [==============================] - 4s 1ms/step - loss: 0.0909 - acc: 0.9932 - val_loss: 0.1288 - val_acc: 0.9902\n",
            "Epoch 200/200\n",
            "3074/3074 [==============================] - 4s 1ms/step - loss: 0.0840 - acc: 0.9961 - val_loss: 0.1508 - val_acc: 0.9854\n",
            "6151/6151 [==============================] - 3s 432us/step\n",
            "3D RES_SS4 without BN Training Time:  1126.028362\n",
            "3D RES_SS4 without BN Test time: 3.0441289999998844\n",
            "3D RES_SS4 without BN Test score: 0.1220333570012754\n",
            "3D RES_SS4 without BN Test accuracy: 0.9921963908307593\n",
            "dict_keys(['val_loss', 'val_acc', 'loss', 'acc'])\n",
            "3D RESNET_SS4 without BN training finished.\n",
            "# 1 Iteration\n",
            "Test score: 0.1220333570012754\n",
            "Test accuracy: 0.9921963908307593\n",
            "dict_keys(['val_loss', 'val_acc', 'loss', 'acc'])\n"
          ],
          "name": "stdout"
        }
      ]
    },
    {
      "cell_type": "code",
      "metadata": {
        "id": "Zs27DnwmMxlF",
        "colab_type": "code",
        "colab": {}
      },
      "source": [
        "hist1_val_acc = history_res4_SS_BN.history['val_acc']\n",
        "hist1_val_loss = history_res4_SS_BN.history['val_loss']\n",
        "hist1_acc = history_res4_SS_BN.history['acc']\n",
        "hist1_loss = history_res4_SS_BN.history['loss']"
      ],
      "execution_count": 0,
      "outputs": []
    },
    {
      "cell_type": "code",
      "metadata": {
        "id": "7kXrQzebMrO3",
        "colab_type": "code",
        "outputId": "687ee274-f0db-4dfc-9156-38807fdf456d",
        "colab": {
          "base_uri": "https://localhost:8080/",
          "height": 289
        }
      },
      "source": [
        "import matplotlib.pyplot as plt\n",
        "import matplotlib\n",
        "% matplotlib inline\n",
        "matplotlib.rcParams.update({'font.size': 16})\n",
        "\n",
        "# summarize history for accuracy\n",
        "f = plt.figure()\n",
        "\n",
        "plt.plot(hist1_acc , color='red',linestyle='solid', label = 'Training')\n",
        "plt.plot(hist1_val_acc , color='red',linestyle='dashed', label = 'Validation')\n",
        "\n",
        "#plt.ylim(0, 3)   \n",
        "#plt.xlim(0,50)\n",
        "plt.ylabel('Accuracy')\n",
        "plt.xlabel('Epoch')\n",
        "plt.legend(loc=\"best\")\n",
        "plt.legend(prop={'size': 12})\n",
        "\n",
        "\n",
        "#plt.legend(['train', 'val'], loc='lower left')\n",
        "plt.show()\n",
        "#f.savefig(\"/content/gdrive/My Drive/Fuseacc.pdf\")\n"
      ],
      "execution_count": 0,
      "outputs": [
        {
          "output_type": "display_data",
          "data": {
            "image/png": "[encoded data removed]",
            "text/plain": [
              "<Figure size 432x288 with 1 Axes>"
            ]
          },
          "metadata": {
            "tags": []
          }
        }
      ]
    },
    {
      "cell_type": "code",
      "metadata": {
        "id": "uI6xF3pDNMBY",
        "colab_type": "code",
        "outputId": "a585e722-04e5-4fa5-b11e-1990ed37631d",
        "colab": {
          "base_uri": "https://localhost:8080/",
          "height": 289
        }
      },
      "source": [
        "# summarize history for loss\n",
        "# summarize history for accuracy\n",
        "f = plt.figure()\n",
        "\n",
        "\n",
        "plt.plot(hist1_loss , color='green',linestyle='solid', label = 'Training')\n",
        "plt.plot(hist1_val_loss , color='green',linestyle='dashed', label = 'Validation')\n",
        "\n",
        "plt.ylabel('Loss')\n",
        "plt.xlabel('Epoch')\n",
        "plt.legend(loc=\"best\")\n",
        "\n",
        "#plt.xlim(0,26)\n",
        "#plt.legend(['train', 'val'], loc='upper left')\n",
        "plt.show()\n",
        "#f.savefig(\"/content/gdrive/My Drive/loss_new_UP_green.pdf\")\n"
      ],
      "execution_count": 0,
      "outputs": [
        {
          "output_type": "display_data",
          "data": {
            "image/png": "[encoded data removed]",
            "text/plain": [
              "<Figure size 432x288 with 1 Axes>"
            ]
          },
          "metadata": {
            "tags": []
          }
        }
      ]
    }
  ]
}